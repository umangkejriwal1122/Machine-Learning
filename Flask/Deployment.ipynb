{
 "cells": [
  {
   "cell_type": "markdown",
   "id": "66bf7858",
   "metadata": {},
   "source": [
    "input -> can be in html page, web page or in handphone \n",
    "press enter key/ return -> our model has to get executed \n",
    "output -> to be in html page/webpage / handphone \n",
    "\n",
    "\n",
    "API- application progrmaming interface \n",
    "\n",
    "\n",
    "Why: program has to run all the tim 24/7, so i cannot store program locally\n",
    "\n",
    "what Deployment \n",
    "1. save my program in some server\n",
    "2. RUN 24/7\n",
    "3. enchancements will no effect original source code/ \n",
    "     modifications( changing the original) of the program updated periodically\n",
    "\n",
    "1. MS -> steps \n",
    "2. AWS->\n",
    "\n",
    "\n",
    "Front end -> web page - html \n",
    "Middle -> Python Program / ML model ( pick up my model ) ->run model \n",
    "Back end -> server whihc hosting the program / local host \n",
    "\n",
    "\n",
    "ML\n"
   ]
  },
  {
   "cell_type": "markdown",
   "id": "9c849a9c",
   "metadata": {},
   "source": [
    "Architecture – 3 tier / 3 layer – MlOps\n",
    "\n",
    "\tML Ops -> Machine Learning Operations\n",
    "\n",
    "SDLC ( analyse, design, develop, testing(UAT)-deploy in the server , go live prod) \n",
    "\n",
    "1.\tDesign( all the eda, datacleaning, missing, prep, sclar) \n",
    "2.\tDevelop( Developing ur model -> ML+ Data enginerring team + Testing ( functional testing/non function testing/load testing ) \n",
    "3.\t ML Ops \n",
    "a.\tML deployment\n",
    "i.\tAutomation of all manual process \n",
    "b.\tCI/CD pipelines \n",
    "i.\tCI – Continuous integration \n",
    "ii.\tCD – Continuous delivery \n",
    "\n",
    "c.\tMonitoring \n",
    "i.\tCT – con training \n",
    "ii.\tCM – con monitoring \n",
    "iii.\tVersion control \n",
    "1.\tCopy+paste -program in GITHUB everytime -> COMMIT\n",
    "2.\tIf there is any changes/enhancments done -> commit \n",
    "iv.\tWhen ur deployment to Azure (MS) -> integrate with GITHUB\n",
    "\n",
    "\n"
   ]
  },
  {
   "cell_type": "code",
   "execution_count": 24,
   "id": "8947734a",
   "metadata": {},
   "outputs": [],
   "source": [
    "## program to be deployment ready \n",
    "#1. Load dataset\n",
    "#2. EDA and data prep\n",
    "#3. Split dataset -train + test \n",
    "#4. Modelling \n",
    "#5. evalute \n",
    "#6. Save model in resuable format(eg: PICKLE) \n",
    "#7. Reuse the model / load model \n",
    "#8. model -> resuable by the front end HTML page(input page) \n",
    "#9. model ouput-> should be integrated with frontend ( outputpage)\n",
    "#10. run the application in localhost / server side "
   ]
  },
  {
   "cell_type": "code",
   "execution_count": 25,
   "id": "5267321e",
   "metadata": {},
   "outputs": [],
   "source": [
    "import numpy as np \n",
    "import pandas as pd "
   ]
  },
  {
   "cell_type": "code",
   "execution_count": 26,
   "id": "fa33d3a7",
   "metadata": {},
   "outputs": [
    {
     "data": {
      "text/html": [
       "<div><div id=346b1f88-72e1-4ab7-a631-8865fae98f65 style=\"display:none; background-color:#9D6CFF; color:white; width:200px; height:30px; padding-left:5px; border-radius:4px; flex-direction:row; justify-content:space-around; align-items:center;\" onmouseover=\"this.style.backgroundColor='#BA9BF8'\" onmouseout=\"this.style.backgroundColor='#9D6CFF'\" onclick=\"window.commands?.execute('create-mitosheet-from-dataframe-output');\">See Full Dataframe in Mito</div> <script> if (window.commands.hasCommand('create-mitosheet-from-dataframe-output')) document.getElementById('346b1f88-72e1-4ab7-a631-8865fae98f65').style.display = 'flex' </script> <table border=\"1\" class=\"dataframe\">\n",
       "  <thead>\n",
       "    <tr style=\"text-align: right;\">\n",
       "      <th></th>\n",
       "      <th>Id</th>\n",
       "      <th>SepalLengthCm</th>\n",
       "      <th>SepalWidthCm</th>\n",
       "      <th>PetalLengthCm</th>\n",
       "      <th>PetalWidthCm</th>\n",
       "      <th>Species</th>\n",
       "    </tr>\n",
       "  </thead>\n",
       "  <tbody>\n",
       "    <tr>\n",
       "      <th>0</th>\n",
       "      <td>1</td>\n",
       "      <td>5.1</td>\n",
       "      <td>3.5</td>\n",
       "      <td>1.4</td>\n",
       "      <td>0.2</td>\n",
       "      <td>Iris-setosa</td>\n",
       "    </tr>\n",
       "    <tr>\n",
       "      <th>1</th>\n",
       "      <td>2</td>\n",
       "      <td>4.9</td>\n",
       "      <td>3.0</td>\n",
       "      <td>1.4</td>\n",
       "      <td>0.2</td>\n",
       "      <td>Iris-setosa</td>\n",
       "    </tr>\n",
       "    <tr>\n",
       "      <th>2</th>\n",
       "      <td>3</td>\n",
       "      <td>4.7</td>\n",
       "      <td>3.2</td>\n",
       "      <td>1.3</td>\n",
       "      <td>0.2</td>\n",
       "      <td>Iris-setosa</td>\n",
       "    </tr>\n",
       "    <tr>\n",
       "      <th>3</th>\n",
       "      <td>4</td>\n",
       "      <td>4.6</td>\n",
       "      <td>3.1</td>\n",
       "      <td>1.5</td>\n",
       "      <td>0.2</td>\n",
       "      <td>Iris-setosa</td>\n",
       "    </tr>\n",
       "    <tr>\n",
       "      <th>4</th>\n",
       "      <td>5</td>\n",
       "      <td>5.0</td>\n",
       "      <td>3.6</td>\n",
       "      <td>1.4</td>\n",
       "      <td>0.2</td>\n",
       "      <td>Iris-setosa</td>\n",
       "    </tr>\n",
       "  </tbody>\n",
       "</table></div>"
      ],
      "text/plain": [
       "   Id  SepalLengthCm  SepalWidthCm  PetalLengthCm  PetalWidthCm      Species\n",
       "0   1            5.1           3.5            1.4           0.2  Iris-setosa\n",
       "1   2            4.9           3.0            1.4           0.2  Iris-setosa\n",
       "2   3            4.7           3.2            1.3           0.2  Iris-setosa\n",
       "3   4            4.6           3.1            1.5           0.2  Iris-setosa\n",
       "4   5            5.0           3.6            1.4           0.2  Iris-setosa"
      ]
     },
     "execution_count": 26,
     "metadata": {},
     "output_type": "execute_result"
    }
   ],
   "source": [
    "df = pd.read_csv(\"Iris.csv\")\n",
    "df.head()"
   ]
  },
  {
   "cell_type": "code",
   "execution_count": 27,
   "id": "153043ec",
   "metadata": {},
   "outputs": [
    {
     "data": {
      "text/plain": [
       "(150, 6)"
      ]
     },
     "execution_count": 27,
     "metadata": {},
     "output_type": "execute_result"
    }
   ],
   "source": [
    "df.shape"
   ]
  },
  {
   "cell_type": "code",
   "execution_count": 28,
   "id": "f7d7143d",
   "metadata": {},
   "outputs": [],
   "source": [
    "#species. =y axis -> dependent \n",
    "#SepalLengthCm\tSepalWidthCm\tPetalLengthCm\tPetalWidthCm = x axis -> independent "
   ]
  },
  {
   "cell_type": "code",
   "execution_count": 29,
   "id": "d730e5ad",
   "metadata": {},
   "outputs": [],
   "source": [
    "df.drop(\"Id\", axis =1 , inplace = True)"
   ]
  },
  {
   "cell_type": "code",
   "execution_count": 30,
   "id": "b03d2460",
   "metadata": {},
   "outputs": [
    {
     "data": {
      "text/html": [
       "<div><div id=5c6ad6e1-33f6-4d5e-85fd-f6cfa062c4ea style=\"display:none; background-color:#9D6CFF; color:white; width:200px; height:30px; padding-left:5px; border-radius:4px; flex-direction:row; justify-content:space-around; align-items:center;\" onmouseover=\"this.style.backgroundColor='#BA9BF8'\" onmouseout=\"this.style.backgroundColor='#9D6CFF'\" onclick=\"window.commands?.execute('create-mitosheet-from-dataframe-output');\">See Full Dataframe in Mito</div> <script> if (window.commands.hasCommand('create-mitosheet-from-dataframe-output')) document.getElementById('5c6ad6e1-33f6-4d5e-85fd-f6cfa062c4ea').style.display = 'flex' </script> <table border=\"1\" class=\"dataframe\">\n",
       "  <thead>\n",
       "    <tr style=\"text-align: right;\">\n",
       "      <th></th>\n",
       "      <th>SepalLengthCm</th>\n",
       "      <th>SepalWidthCm</th>\n",
       "      <th>PetalLengthCm</th>\n",
       "      <th>PetalWidthCm</th>\n",
       "      <th>Species</th>\n",
       "    </tr>\n",
       "  </thead>\n",
       "  <tbody>\n",
       "    <tr>\n",
       "      <th>0</th>\n",
       "      <td>5.1</td>\n",
       "      <td>3.5</td>\n",
       "      <td>1.4</td>\n",
       "      <td>0.2</td>\n",
       "      <td>Iris-setosa</td>\n",
       "    </tr>\n",
       "    <tr>\n",
       "      <th>1</th>\n",
       "      <td>4.9</td>\n",
       "      <td>3.0</td>\n",
       "      <td>1.4</td>\n",
       "      <td>0.2</td>\n",
       "      <td>Iris-setosa</td>\n",
       "    </tr>\n",
       "    <tr>\n",
       "      <th>2</th>\n",
       "      <td>4.7</td>\n",
       "      <td>3.2</td>\n",
       "      <td>1.3</td>\n",
       "      <td>0.2</td>\n",
       "      <td>Iris-setosa</td>\n",
       "    </tr>\n",
       "    <tr>\n",
       "      <th>3</th>\n",
       "      <td>4.6</td>\n",
       "      <td>3.1</td>\n",
       "      <td>1.5</td>\n",
       "      <td>0.2</td>\n",
       "      <td>Iris-setosa</td>\n",
       "    </tr>\n",
       "    <tr>\n",
       "      <th>4</th>\n",
       "      <td>5.0</td>\n",
       "      <td>3.6</td>\n",
       "      <td>1.4</td>\n",
       "      <td>0.2</td>\n",
       "      <td>Iris-setosa</td>\n",
       "    </tr>\n",
       "  </tbody>\n",
       "</table></div>"
      ],
      "text/plain": [
       "   SepalLengthCm  SepalWidthCm  PetalLengthCm  PetalWidthCm      Species\n",
       "0            5.1           3.5            1.4           0.2  Iris-setosa\n",
       "1            4.9           3.0            1.4           0.2  Iris-setosa\n",
       "2            4.7           3.2            1.3           0.2  Iris-setosa\n",
       "3            4.6           3.1            1.5           0.2  Iris-setosa\n",
       "4            5.0           3.6            1.4           0.2  Iris-setosa"
      ]
     },
     "execution_count": 30,
     "metadata": {},
     "output_type": "execute_result"
    }
   ],
   "source": [
    "df.head()"
   ]
  },
  {
   "cell_type": "code",
   "execution_count": 31,
   "id": "df05fbc8",
   "metadata": {},
   "outputs": [],
   "source": [
    "y = df.Species"
   ]
  },
  {
   "cell_type": "code",
   "execution_count": 32,
   "id": "e0c2b8a3",
   "metadata": {},
   "outputs": [],
   "source": [
    "x = df[['SepalLengthCm', 'SepalWidthCm','PetalLengthCm','PetalWidthCm']]"
   ]
  },
  {
   "cell_type": "code",
   "execution_count": 33,
   "id": "6ec0176d",
   "metadata": {},
   "outputs": [],
   "source": [
    "from sklearn.model_selection import train_test_split"
   ]
  },
  {
   "cell_type": "code",
   "execution_count": 34,
   "id": "b3bd5b36",
   "metadata": {},
   "outputs": [],
   "source": [
    "x_train, x_test,y_train,y_test = train_test_split(x,y, test_size= 0.3)"
   ]
  },
  {
   "cell_type": "code",
   "execution_count": 35,
   "id": "0d789b64",
   "metadata": {},
   "outputs": [],
   "source": [
    "from sklearn.linear_model import LogisticRegression"
   ]
  },
  {
   "cell_type": "code",
   "execution_count": 36,
   "id": "1f8cafc3",
   "metadata": {},
   "outputs": [],
   "source": [
    "model = LogisticRegression()"
   ]
  },
  {
   "cell_type": "code",
   "execution_count": 37,
   "id": "bdab175a",
   "metadata": {},
   "outputs": [
    {
     "name": "stderr",
     "output_type": "stream",
     "text": [
      "C:\\Users\\umang\\AppData\\Local\\Programs\\Python\\Python39\\lib\\site-packages\\sklearn\\linear_model\\_logistic.py:814: ConvergenceWarning: lbfgs failed to converge (status=1):\n",
      "STOP: TOTAL NO. of ITERATIONS REACHED LIMIT.\n",
      "\n",
      "Increase the number of iterations (max_iter) or scale the data as shown in:\n",
      "    https://scikit-learn.org/stable/modules/preprocessing.html\n",
      "Please also refer to the documentation for alternative solver options:\n",
      "    https://scikit-learn.org/stable/modules/linear_model.html#logistic-regression\n",
      "  n_iter_i = _check_optimize_result(\n"
     ]
    },
    {
     "data": {
      "text/plain": [
       "LogisticRegression()"
      ]
     },
     "execution_count": 37,
     "metadata": {},
     "output_type": "execute_result"
    }
   ],
   "source": [
    "#70% of the data goest othe training \n",
    "model.fit(x_train,y_train)"
   ]
  },
  {
   "cell_type": "code",
   "execution_count": 38,
   "id": "a3e5c37f",
   "metadata": {},
   "outputs": [],
   "source": [
    "## assuming TP TN FN FP , RECALL, PRESICION ALL DONE "
   ]
  },
  {
   "cell_type": "code",
   "execution_count": 39,
   "id": "c7782d3a",
   "metadata": {},
   "outputs": [],
   "source": [
    "## RESUABLE mode \n",
    "## pickle mode \n",
    "import pickle "
   ]
  },
  {
   "cell_type": "code",
   "execution_count": 40,
   "id": "ced67728",
   "metadata": {},
   "outputs": [],
   "source": [
    "## dump the model in to the pickle file in write mode \n",
    "pickle.dump(model , open('model.pkl', 'wb'))\n"
   ]
  },
  {
   "cell_type": "code",
   "execution_count": 41,
   "id": "8c27e2a6-57f9-4d08-a0ff-720753a42b1a",
   "metadata": {},
   "outputs": [
    {
     "name": "stdout",
     "output_type": "stream",
     "text": [
      "Requirement already satisfied: flask in c:\\users\\umang\\appdata\\local\\programs\\python\\python39\\lib\\site-packages (2.0.2)\n",
      "Requirement already satisfied: Jinja2>=3.0 in c:\\users\\umang\\appdata\\local\\programs\\python\\python39\\lib\\site-packages (from flask) (3.0.1)\n",
      "Requirement already satisfied: Werkzeug>=2.0 in c:\\users\\umang\\appdata\\local\\programs\\python\\python39\\lib\\site-packages (from flask) (2.0.2)\n",
      "Requirement already satisfied: click>=7.1.2 in c:\\users\\umang\\appdata\\local\\programs\\python\\python39\\lib\\site-packages (from flask) (7.1.2)\n",
      "Requirement already satisfied: itsdangerous>=2.0 in c:\\users\\umang\\appdata\\local\\programs\\python\\python39\\lib\\site-packages (from flask) (2.0.1)\n",
      "Requirement already satisfied: MarkupSafe>=2.0 in c:\\users\\umang\\appdata\\local\\programs\\python\\python39\\lib\\site-packages (from Jinja2>=3.0->flask) (2.0.1)\n"
     ]
    },
    {
     "name": "stderr",
     "output_type": "stream",
     "text": [
      "WARNING: You are using pip version 21.2.3; however, version 21.3.1 is available.\n",
      "You should consider upgrading via the 'C:\\Users\\umang\\AppData\\Local\\Programs\\Python\\Python39\\python.exe -m pip install --upgrade pip' command.\n"
     ]
    }
   ],
   "source": [
    "!pip install flask"
   ]
  },
  {
   "cell_type": "code",
   "execution_count": 42,
   "id": "8baf1507",
   "metadata": {},
   "outputs": [],
   "source": [
    "### open the pickle file in read mode rb\n",
    "#8. model -> resuable by the front end HTML page(input page) \n",
    "## deploy ML program in application format using flask \n",
    "from flask import Flask , request, render_template, jsonify"
   ]
  },
  {
   "cell_type": "code",
   "execution_count": 43,
   "id": "17695949",
   "metadata": {},
   "outputs": [],
   "source": [
    "## create application \n",
    "app = Flask(__name__)\n",
    "model = pickle.load(open('model.pkl', 'rb'))"
   ]
  },
  {
   "cell_type": "code",
   "execution_count": 44,
   "id": "41df80fe",
   "metadata": {},
   "outputs": [],
   "source": [
    "##resuable by the front end HTML page(input page)\n",
    "@app.route('/')## landing page or home page or input page \n",
    "def home():\n",
    "    return render_template('index.html')"
   ]
  },
  {
   "cell_type": "code",
   "execution_count": 45,
   "id": "a7a32010",
   "metadata": {},
   "outputs": [],
   "source": [
    "##resuable by the front end HTML page(output page) \n",
    "## route to predict function \n",
    "## take all input values from the form \n",
    "## create array and feed to the predict function \n",
    "@app.route('/predict', methods = ['POST'] )## landing page or home page or input page \n",
    "def predict():\n",
    "    \n",
    "    ## take all input values from the form by the user \n",
    "    usr_input = [float(x) for x in request.form.values()] \n",
    "    #create array \n",
    "    usr_input_array = [np.array(usr_input)]\n",
    "    #feed the usr_input_array to the predict function\n",
    "    prediction = model.predict(usr_input_array)\n",
    "    \n",
    "    return render_template('index.html', prediction_text  = 'Predicted class={}'.format(prediction)) ## output the species \n",
    "\n",
    "#input page\n",
    "#5.1\t3.5\t1.4\t0.2 - > precition - setosa"
   ]
  },
  {
   "cell_type": "code",
   "execution_count": null,
   "id": "38337c6d",
   "metadata": {},
   "outputs": [
    {
     "name": "stdout",
     "output_type": "stream",
     "text": [
      " * Serving Flask app '__main__' (lazy loading)\n",
      " * Environment: production\n",
      "   WARNING: This is a development server. Do not use it in a production deployment.\n",
      "   Use a production WSGI server instead.\n",
      " * Debug mode: off\n"
     ]
    },
    {
     "name": "stderr",
     "output_type": "stream",
     "text": [
      " * Running on http://127.0.0.1:5000/ (Press CTRL+C to quit)\n",
      "127.0.0.1 - - [15/Dec/2021 23:00:27] \"GET / HTTP/1.1\" 200 -\n",
      "127.0.0.1 - - [15/Dec/2021 23:00:27] \"\u001b[33mGET /static/css/style.css HTTP/1.1\u001b[0m\" 404 -\n",
      "C:\\Users\\umang\\AppData\\Local\\Programs\\Python\\Python39\\lib\\site-packages\\sklearn\\base.py:441: UserWarning: X does not have valid feature names, but LogisticRegression was fitted with feature names\n",
      "  warnings.warn(\n",
      "127.0.0.1 - - [15/Dec/2021 23:00:31] \"POST /predict HTTP/1.1\" 200 -\n",
      "127.0.0.1 - - [15/Dec/2021 23:00:32] \"\u001b[33mGET /static/css/style.css HTTP/1.1\u001b[0m\" 404 -\n"
     ]
    }
   ],
   "source": [
    "if __name__ == \"__main__\":\n",
    "    app.run(debug = False)\n",
    "    "
   ]
  },
  {
   "cell_type": "code",
   "execution_count": null,
   "id": "5c0ab1d9",
   "metadata": {},
   "outputs": [],
   "source": [
    "## createnotepad requirements.txt \n",
    "##list of the packages used in the program \n",
    "pandas\n",
    "numpy\n",
    "pickle\n",
    "sklearn\n",
    "jsonify\n",
    "flask"
   ]
  },
  {
   "cell_type": "code",
   "execution_count": null,
   "id": "68063229",
   "metadata": {},
   "outputs": [],
   "source": [
    "#pip install requirements.txt(mandatory )\n",
    "#program runs after pip install in the server ( mandatory )\n",
    "#html page ( mandatory )\n",
    "#dataset ( not mandatory )\n"
   ]
  }
 ],
 "metadata": {
  "kernelspec": {
   "display_name": "Python 3 (ipykernel)",
   "language": "python",
   "name": "python3"
  },
  "language_info": {
   "codemirror_mode": {
    "name": "ipython",
    "version": 3
   },
   "file_extension": ".py",
   "mimetype": "text/x-python",
   "name": "python",
   "nbconvert_exporter": "python",
   "pygments_lexer": "ipython3",
   "version": "3.9.7"
  }
 },
 "nbformat": 4,
 "nbformat_minor": 5
}
