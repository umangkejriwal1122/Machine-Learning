{
 "cells": [
  {
   "cell_type": "code",
   "execution_count": 1,
   "metadata": {
    "id": "X41s5iAJ0jNk"
   },
   "outputs": [],
   "source": [
    "import pandas as pd\n",
    "import numpy as np\n",
    "import matplotlib.pyplot as plt"
   ]
  },
  {
   "cell_type": "code",
   "execution_count": 3,
   "metadata": {
    "colab": {
     "base_uri": "https://localhost:8080/",
     "height": 206
    },
    "id": "tyUWz5zz1AvQ",
    "outputId": "df618104-8f29-4c0e-86f9-42bcde993ad6"
   },
   "outputs": [
    {
     "data": {
      "text/html": [
       "<div><div id=b8ec0062-43d7-4072-8e46-c38805a4e784 style=\"display:none; background-color:#9D6CFF; color:white; width:200px; height:30px; padding-left:5px; border-radius:4px; flex-direction:row; justify-content:space-around; align-items:center;\" onmouseover=\"this.style.backgroundColor='#BA9BF8'\" onmouseout=\"this.style.backgroundColor='#9D6CFF'\" onclick=\"window.commands?.execute('create-mitosheet-from-dataframe-output');\">See Full Dataframe in Mito</div> <script> if (window.commands.hasCommand('create-mitosheet-from-dataframe-output')) document.getElementById('b8ec0062-43d7-4072-8e46-c38805a4e784').style.display = 'flex' </script> <table border=\"1\" class=\"dataframe\">\n",
       "  <thead>\n",
       "    <tr style=\"text-align: right;\">\n",
       "      <th></th>\n",
       "      <th>YearsExperience</th>\n",
       "      <th>Salary</th>\n",
       "    </tr>\n",
       "  </thead>\n",
       "  <tbody>\n",
       "    <tr>\n",
       "      <th>0</th>\n",
       "      <td>1.1</td>\n",
       "      <td>39343.0</td>\n",
       "    </tr>\n",
       "    <tr>\n",
       "      <th>1</th>\n",
       "      <td>1.3</td>\n",
       "      <td>46205.0</td>\n",
       "    </tr>\n",
       "    <tr>\n",
       "      <th>2</th>\n",
       "      <td>1.5</td>\n",
       "      <td>37731.0</td>\n",
       "    </tr>\n",
       "    <tr>\n",
       "      <th>3</th>\n",
       "      <td>2.0</td>\n",
       "      <td>43525.0</td>\n",
       "    </tr>\n",
       "    <tr>\n",
       "      <th>4</th>\n",
       "      <td>2.2</td>\n",
       "      <td>39891.0</td>\n",
       "    </tr>\n",
       "  </tbody>\n",
       "</table></div>"
      ],
      "text/plain": [
       "   YearsExperience   Salary\n",
       "0              1.1  39343.0\n",
       "1              1.3  46205.0\n",
       "2              1.5  37731.0\n",
       "3              2.0  43525.0\n",
       "4              2.2  39891.0"
      ]
     },
     "execution_count": 3,
     "metadata": {},
     "output_type": "execute_result"
    }
   ],
   "source": [
    "data = pd.read_csv(\"Salary_Data.csv\")\n",
    "data.head()"
   ]
  },
  {
   "cell_type": "code",
   "execution_count": 4,
   "metadata": {
    "id": "HRtdCM0g1I_Z"
   },
   "outputs": [],
   "source": [
    "x = np.array(data[['YearsExperience']])  ## feature"
   ]
  },
  {
   "cell_type": "code",
   "execution_count": 5,
   "metadata": {
    "colab": {
     "base_uri": "https://localhost:8080/"
    },
    "id": "WWDMRPSA4FQP",
    "outputId": "4246bb6a-0e0c-414e-ea32-d3e71c1fbce2"
   },
   "outputs": [
    {
     "data": {
      "text/plain": [
       "(30, 1)"
      ]
     },
     "execution_count": 5,
     "metadata": {},
     "output_type": "execute_result"
    }
   ],
   "source": [
    "x.shape"
   ]
  },
  {
   "cell_type": "code",
   "execution_count": 6,
   "metadata": {
    "id": "2qpgtZjU4dda"
   },
   "outputs": [],
   "source": [
    "y = np.array(data['Salary'])   ## target"
   ]
  },
  {
   "cell_type": "code",
   "execution_count": 7,
   "metadata": {
    "colab": {
     "base_uri": "https://localhost:8080/"
    },
    "id": "c2KmerwJ4p6z",
    "outputId": "ba501b76-bcee-4be0-9069-a0d1602e25d8"
   },
   "outputs": [
    {
     "data": {
      "text/plain": [
       "(30,)"
      ]
     },
     "execution_count": 7,
     "metadata": {},
     "output_type": "execute_result"
    }
   ],
   "source": [
    "y.shape"
   ]
  },
  {
   "cell_type": "code",
   "execution_count": 8,
   "metadata": {
    "colab": {
     "base_uri": "https://localhost:8080/"
    },
    "id": "wasDdRIM6T_f",
    "outputId": "07b67ac5-0372-4918-f4f7-86186c017e9f"
   },
   "outputs": [
    {
     "data": {
      "text/plain": [
       "YearsExperience    0\n",
       "Salary             0\n",
       "dtype: int64"
      ]
     },
     "execution_count": 8,
     "metadata": {},
     "output_type": "execute_result"
    }
   ],
   "source": [
    "data.isnull().sum()"
   ]
  },
  {
   "cell_type": "code",
   "execution_count": 9,
   "metadata": {
    "id": "9_-HPW8a4qdx"
   },
   "outputs": [],
   "source": [
    "### Split the data into training and testing"
   ]
  },
  {
   "cell_type": "code",
   "execution_count": 10,
   "metadata": {
    "id": "mKpivODp6Xdr"
   },
   "outputs": [],
   "source": [
    "from sklearn.model_selection import train_test_split\n",
    "xtrain,xtest,ytrain,ytest = train_test_split(x,y,train_size=0.8,random_state=9014)"
   ]
  },
  {
   "cell_type": "code",
   "execution_count": 11,
   "metadata": {
    "colab": {
     "base_uri": "https://localhost:8080/"
    },
    "id": "x8ZmHfiu6_em",
    "outputId": "0e42d9ed-af14-4485-b644-2c898961e5a8"
   },
   "outputs": [
    {
     "data": {
      "text/plain": [
       "array([[ 3.2],\n",
       "       [ 7.9],\n",
       "       [ 2. ],\n",
       "       [ 3.9],\n",
       "       [10.3],\n",
       "       [ 9.5]])"
      ]
     },
     "execution_count": 11,
     "metadata": {},
     "output_type": "execute_result"
    }
   ],
   "source": [
    "xtest"
   ]
  },
  {
   "cell_type": "code",
   "execution_count": 12,
   "metadata": {
    "id": "x1BhBG_D7BmB"
   },
   "outputs": [],
   "source": [
    "### Build the model\n",
    "from sklearn.linear_model import LinearRegression\n",
    "model = LinearRegression()"
   ]
  },
  {
   "cell_type": "code",
   "execution_count": 13,
   "metadata": {
    "colab": {
     "base_uri": "https://localhost:8080/"
    },
    "id": "jF3fNAeF700m",
    "outputId": "69b7cf13-201d-4345-f8ec-5edcf577a075"
   },
   "outputs": [
    {
     "data": {
      "text/plain": [
       "LinearRegression()"
      ]
     },
     "execution_count": 13,
     "metadata": {},
     "output_type": "execute_result"
    }
   ],
   "source": [
    "### Train the model\n",
    "model.fit(xtrain,ytrain)"
   ]
  },
  {
   "cell_type": "code",
   "execution_count": 14,
   "metadata": {
    "colab": {
     "base_uri": "https://localhost:8080/"
    },
    "id": "876frpR08DUx",
    "outputId": "72b378f8-b00e-42cf-c6a7-7df813199b3e"
   },
   "outputs": [
    {
     "data": {
      "text/plain": [
       "array([ 56182.55053157, 100294.69682063,  44919.8748833 ,  62752.44465973,\n",
       "       122820.04811718, 115311.59768499])"
      ]
     },
     "execution_count": 14,
     "metadata": {},
     "output_type": "execute_result"
    }
   ],
   "source": [
    "### Prediction / Testing\n",
    "ypred = model.predict(xtest)\n",
    "ypred"
   ]
  },
  {
   "cell_type": "code",
   "execution_count": 15,
   "metadata": {
    "colab": {
     "base_uri": "https://localhost:8080/"
    },
    "id": "q-chceAH8oIE",
    "outputId": "77ac0d52-1b42-4dde-9b56-abd9178af548"
   },
   "outputs": [
    {
     "data": {
      "text/plain": [
       "array([[ 3.2],\n",
       "       [ 7.9],\n",
       "       [ 2. ],\n",
       "       [ 3.9],\n",
       "       [10.3],\n",
       "       [ 9.5]])"
      ]
     },
     "execution_count": 15,
     "metadata": {},
     "output_type": "execute_result"
    }
   ],
   "source": [
    "xtest"
   ]
  },
  {
   "cell_type": "code",
   "execution_count": 16,
   "metadata": {
    "colab": {
     "base_uri": "https://localhost:8080/"
    },
    "id": "IRIx1iBa81lR",
    "outputId": "7efb7ab7-b84b-4f19-d75b-0edf70e869d0"
   },
   "outputs": [
    {
     "data": {
      "text/plain": [
       "array([ 54445., 101302.,  43525.,  63218., 122391., 116969.])"
      ]
     },
     "execution_count": 16,
     "metadata": {},
     "output_type": "execute_result"
    }
   ],
   "source": [
    "ytest"
   ]
  },
  {
   "cell_type": "code",
   "execution_count": 17,
   "metadata": {
    "colab": {
     "base_uri": "https://localhost:8080/"
    },
    "id": "oDNQZ-V49HCt",
    "outputId": "b18b1f57-8a47-4983-f513-aacf6c8ca69f"
   },
   "outputs": [
    {
     "data": {
      "text/plain": [
       "99.842716176972"
      ]
     },
     "execution_count": 17,
     "metadata": {},
     "output_type": "execute_result"
    }
   ],
   "source": [
    "### R-Square (R2 Score)\n",
    "from sklearn.metrics import r2_score\n",
    "score = r2_score(ytest,ypred)\n",
    "score*100"
   ]
  },
  {
   "cell_type": "code",
   "execution_count": 18,
   "metadata": {
    "colab": {
     "base_uri": "https://localhost:8080/",
     "height": 265
    },
    "id": "n_Gkjum_9g_7",
    "outputId": "79e000d0-320e-4b29-de62-2140614ffcf2"
   },
   "outputs": [
    {
     "data": {
      "image/png": "[encoded data removed]",
      "text/plain": [
       "<Figure size 432x288 with 1 Axes>"
      ]
     },
     "metadata": {
      "needs_background": "light"
     },
     "output_type": "display_data"
    }
   ],
   "source": [
    "### Line of Regression (Training Samples)\n",
    "plt.scatter(xtrain,ytrain,color=\"blue\",label=\"Actual Samples\",s=100)\n",
    "plt.scatter(xtrain,model.predict(xtrain),color=\"red\",label=\"Predicted Samples\",s=100)\n",
    "plt.plot(xtrain,model.predict(xtrain),color=\"orange\",label=\"Line of Regression\")\n",
    "plt.legend()\n",
    "plt.show()"
   ]
  },
  {
   "cell_type": "code",
   "execution_count": 19,
   "metadata": {
    "colab": {
     "base_uri": "https://localhost:8080/",
     "height": 265
    },
    "id": "vTWsxfoF_Tn3",
    "outputId": "06888b11-c146-419b-be1a-4027e66bfdfb"
   },
   "outputs": [
    {
     "data": {
      "image/png": "[encoded data removed]",
      "text/plain": [
       "<Figure size 432x288 with 1 Axes>"
      ]
     },
     "metadata": {
      "needs_background": "light"
     },
     "output_type": "display_data"
    }
   ],
   "source": [
    "### Line of Regression (Testing Samples)\n",
    "plt.scatter(xtest,ytest,color=\"blue\",label=\"Actual Samples\",s=100)\n",
    "plt.scatter(xtest,model.predict(xtest),color=\"red\",label=\"Predicted Samples\",s=100)\n",
    "plt.plot(xtest,model.predict(xtest),color=\"orange\",label=\"Line of Regression\")\n",
    "plt.legend()\n",
    "plt.show()"
   ]
  },
  {
   "cell_type": "code",
   "execution_count": 20,
   "metadata": {
    "id": "yDMEJfSWAFOf"
   },
   "outputs": [],
   "source": [
    "### Increase Accuracy\n",
    "### Cross Validation"
   ]
  },
  {
   "cell_type": "code",
   "execution_count": 21,
   "metadata": {
    "id": "-dIcBOzsD8lD"
   },
   "outputs": [],
   "source": [
    "accuracy = []\n",
    "for i in range(10000):\n",
    "    xtrain1,xtest1,ytrain1,ytest1 = train_test_split(x,y,train_size=0.8,random_state=i)\n",
    "    model1 = LinearRegression()\n",
    "    model1.fit(xtrain1,ytrain1)\n",
    "    ypred1 = model1.predict(xtest1)\n",
    "    score1 = r2_score(ytest1,ypred1)\n",
    "    accuracy.append(score1)"
   ]
  },
  {
   "cell_type": "code",
   "execution_count": 22,
   "metadata": {
    "colab": {
     "base_uri": "https://localhost:8080/"
    },
    "id": "3G50YBc9F6Af",
    "outputId": "343d9c37-df79-456c-db89-575feb441ef6"
   },
   "outputs": [
    {
     "data": {
      "text/plain": [
       "0.99842716176972"
      ]
     },
     "execution_count": 22,
     "metadata": {},
     "output_type": "execute_result"
    }
   ],
   "source": [
    "np.max(accuracy)"
   ]
  },
  {
   "cell_type": "code",
   "execution_count": 23,
   "metadata": {
    "colab": {
     "base_uri": "https://localhost:8080/"
    },
    "id": "5CF46v9oGAeM",
    "outputId": "97ae0ebf-c853-4736-d041-f46e406359a7"
   },
   "outputs": [
    {
     "data": {
      "text/plain": [
       "9014"
      ]
     },
     "execution_count": 23,
     "metadata": {},
     "output_type": "execute_result"
    }
   ],
   "source": [
    "np.argmax(accuracy)"
   ]
  },
  {
   "cell_type": "code",
   "execution_count": 24,
   "metadata": {
    "id": "4XygnPd6Rk2J"
   },
   "outputs": [],
   "source": [
    "### Creating Web Application"
   ]
  },
  {
   "cell_type": "code",
   "execution_count": 27,
   "metadata": {
    "colab": {
     "base_uri": "https://localhost:8080/"
    },
    "id": "XT6Tr3mQGK5a",
    "outputId": "83911516-d481-4be5-f7b3-8b8c1b0422a0"
   },
   "outputs": [
    {
     "data": {
      "text/plain": [
       "['salary.pkl']"
      ]
     },
     "execution_count": 27,
     "metadata": {},
     "output_type": "execute_result"
    }
   ],
   "source": [
    "### Save the model\n",
    "import joblib\n",
    "joblib.dump(model,\"salary.pkl\")"
   ]
  },
  {
   "cell_type": "code",
   "execution_count": 29,
   "metadata": {
    "id": "K19drMHRInOE"
   },
   "outputs": [],
   "source": [
    "mymodel = joblib.load(\"salary.pkl\")"
   ]
  },
  {
   "cell_type": "code",
   "execution_count": 30,
   "metadata": {
    "colab": {
     "base_uri": "https://localhost:8080/"
    },
    "id": "5G5BPbTlI3hZ",
    "outputId": "60fb251f-8b10-4b80-de48-da8de3adc775"
   },
   "outputs": [
    {
     "data": {
      "text/plain": [
       "array([120004.37920511])"
      ]
     },
     "execution_count": 30,
     "metadata": {},
     "output_type": "execute_result"
    }
   ],
   "source": [
    "mymodel.predict([[10]])"
   ]
  },
  {
   "cell_type": "code",
   "execution_count": 31,
   "metadata": {
    "colab": {
     "base_uri": "https://localhost:8080/"
    },
    "id": "a9qlZktZLBl-",
    "outputId": "f40df145-d552-4acf-87ae-b19a25dfece4"
   },
   "outputs": [
    {
     "data": {
      "text/plain": [
       "120004.38"
      ]
     },
     "execution_count": 31,
     "metadata": {},
     "output_type": "execute_result"
    }
   ],
   "source": [
    "round(mymodel.predict([[10]])[0],2)"
   ]
  },
  {
   "cell_type": "code",
   "execution_count": 28,
   "metadata": {
    "id": "XJ8ikefvI6cm"
   },
   "outputs": [],
   "source": [
    "!pip install streamlit --quiet"
   ]
  },
  {
   "cell_type": "code",
   "execution_count": 29,
   "metadata": {
    "id": "l3hGdxbOJDxf"
   },
   "outputs": [],
   "source": [
    "!pip install pyngrok==4.1.1 --quiet"
   ]
  },
  {
   "cell_type": "code",
   "execution_count": 30,
   "metadata": {
    "id": "7Eqv5eJuLqNM"
   },
   "outputs": [],
   "source": [
    "from pyngrok import ngrok"
   ]
  },
  {
   "cell_type": "code",
   "execution_count": 31,
   "metadata": {
    "colab": {
     "base_uri": "https://localhost:8080/"
    },
    "id": "1YB5BCJaLvVP",
    "outputId": "0ecf67c8-cb17-4a0a-eeba-cc34b1a62235"
   },
   "outputs": [
    {
     "name": "stdout",
     "output_type": "stream",
     "text": [
      "nohup: appending output to 'nohup.out'\n"
     ]
    }
   ],
   "source": [
    "!nohup streamlit run app.py &"
   ]
  },
  {
   "cell_type": "code",
   "execution_count": 32,
   "metadata": {
    "colab": {
     "base_uri": "https://localhost:8080/"
    },
    "id": "uDMqBdb8MSIK",
    "outputId": "d97a36dc-2f3b-4499-cd14-1ea850f7e6b6"
   },
   "outputs": [
    {
     "name": "stdout",
     "output_type": "stream",
     "text": [
      "http://ca68-34-125-219-50.ngrok.io\n"
     ]
    }
   ],
   "source": [
    "public_url = ngrok.connect(port = \"8501\")\n",
    "print(public_url)"
   ]
  },
  {
   "cell_type": "code",
   "execution_count": 33,
   "metadata": {
    "id": "PCR1UGZQMrnC"
   },
   "outputs": [],
   "source": [
    "### Flask"
   ]
  },
  {
   "cell_type": "code",
   "execution_count": 32,
   "metadata": {
    "id": "XPBm-T1jGoA4"
   },
   "outputs": [],
   "source": [
    "### open the pickle file in read mode rb\n",
    "#8. model -> resuable by the front end HTML page(input page) \n",
    "## deploy ML program in application format using flask \n",
    "from flask import Flask , request, render_template, jsonify"
   ]
  },
  {
   "cell_type": "code",
   "execution_count": 33,
   "metadata": {
    "id": "MCJ80IM5GqHP"
   },
   "outputs": [],
   "source": [
    "app = Flask(__name__)"
   ]
  },
  {
   "cell_type": "code",
   "execution_count": 34,
   "metadata": {
    "id": "V4VlPrkbGtT7"
   },
   "outputs": [],
   "source": [
    "##resuable by the front end HTML page(input page)\n",
    "@app.route('/')  ## landing page or home page or input page \n",
    "def home():\n",
    "    return render_template('index.html')"
   ]
  },
  {
   "cell_type": "code",
   "execution_count": null,
   "metadata": {
    "id": "cEhbzuWsHx0N"
   },
   "outputs": [],
   "source": [
    "@app.route('/predict', methods = ['POST'] )## landing page or home page or input page \n",
    "def predict():\n",
    "    ## take all input values from the form by the user \n",
    "    usr_input = [float(x) for x in request.form.values()] \n",
    "    #create array \n",
    "    usr_input_array = [np.array(usr_input)]\n",
    "    #feed the usr_input_array to the predict function\n",
    "    prediction = model.predict(usr_input_array)[0]\n",
    "    return render_template('index.html', prediction_text  = 'Predicted Salary={}'.format(prediction)) ## output the species \n"
   ]
  },
  {
   "cell_type": "code",
   "execution_count": null,
   "metadata": {
    "colab": {
     "base_uri": "https://localhost:8080/"
    },
    "id": "z0VlLz_rH5nM",
    "outputId": "314b3b7f-c48b-4f64-9efb-84ce110e9bac"
   },
   "outputs": [],
   "source": [
    "if __name__ == \"__main__\":\n",
    "    app.run(debug = False)"
   ]
  },
  {
   "cell_type": "code",
   "execution_count": null,
   "metadata": {
    "id": "goPsLGj0H7tS"
   },
   "outputs": [],
   "source": []
  }
 ],
 "metadata": {
  "colab": {
   "collapsed_sections": [],
   "name": "Linear Regression - Salary Prediction - Complete.ipynb",
   "provenance": []
  },
  "kernelspec": {
   "display_name": "Python 3 (ipykernel)",
   "language": "python",
   "name": "python3"
  },
  "language_info": {
   "codemirror_mode": {
    "name": "ipython",
    "version": 3
   },
   "file_extension": ".py",
   "mimetype": "text/x-python",
   "name": "python",
   "nbconvert_exporter": "python",
   "pygments_lexer": "ipython3",
   "version": "3.9.7"
  }
 },
 "nbformat": 4,
 "nbformat_minor": 1
}
