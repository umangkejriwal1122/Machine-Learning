{
 "cells": [
  {
   "cell_type": "code",
   "execution_count": 1,
   "metadata": {},
   "outputs": [
    {
     "name": "stderr",
     "output_type": "stream",
     "text": [
      "Using TensorFlow backend.\n",
      "C:\\ProgramData\\Anaconda3\\lib\\site-packages\\tensorflow\\python\\framework\\dtypes.py:516: FutureWarning: Passing (type, 1) or '1type' as a synonym of type is deprecated; in a future version of numpy, it will be understood as (type, (1,)) / '(1,)type'.\n",
      "  _np_qint8 = np.dtype([(\"qint8\", np.int8, 1)])\n",
      "C:\\ProgramData\\Anaconda3\\lib\\site-packages\\tensorflow\\python\\framework\\dtypes.py:517: FutureWarning: Passing (type, 1) or '1type' as a synonym of type is deprecated; in a future version of numpy, it will be understood as (type, (1,)) / '(1,)type'.\n",
      "  _np_quint8 = np.dtype([(\"quint8\", np.uint8, 1)])\n",
      "C:\\ProgramData\\Anaconda3\\lib\\site-packages\\tensorflow\\python\\framework\\dtypes.py:518: FutureWarning: Passing (type, 1) or '1type' as a synonym of type is deprecated; in a future version of numpy, it will be understood as (type, (1,)) / '(1,)type'.\n",
      "  _np_qint16 = np.dtype([(\"qint16\", np.int16, 1)])\n",
      "C:\\ProgramData\\Anaconda3\\lib\\site-packages\\tensorflow\\python\\framework\\dtypes.py:519: FutureWarning: Passing (type, 1) or '1type' as a synonym of type is deprecated; in a future version of numpy, it will be understood as (type, (1,)) / '(1,)type'.\n",
      "  _np_quint16 = np.dtype([(\"quint16\", np.uint16, 1)])\n",
      "C:\\ProgramData\\Anaconda3\\lib\\site-packages\\tensorflow\\python\\framework\\dtypes.py:520: FutureWarning: Passing (type, 1) or '1type' as a synonym of type is deprecated; in a future version of numpy, it will be understood as (type, (1,)) / '(1,)type'.\n",
      "  _np_qint32 = np.dtype([(\"qint32\", np.int32, 1)])\n",
      "C:\\ProgramData\\Anaconda3\\lib\\site-packages\\tensorflow\\python\\framework\\dtypes.py:525: FutureWarning: Passing (type, 1) or '1type' as a synonym of type is deprecated; in a future version of numpy, it will be understood as (type, (1,)) / '(1,)type'.\n",
      "  np_resource = np.dtype([(\"resource\", np.ubyte, 1)])\n",
      "C:\\ProgramData\\Anaconda3\\lib\\site-packages\\tensorboard\\compat\\tensorflow_stub\\dtypes.py:541: FutureWarning: Passing (type, 1) or '1type' as a synonym of type is deprecated; in a future version of numpy, it will be understood as (type, (1,)) / '(1,)type'.\n",
      "  _np_qint8 = np.dtype([(\"qint8\", np.int8, 1)])\n",
      "C:\\ProgramData\\Anaconda3\\lib\\site-packages\\tensorboard\\compat\\tensorflow_stub\\dtypes.py:542: FutureWarning: Passing (type, 1) or '1type' as a synonym of type is deprecated; in a future version of numpy, it will be understood as (type, (1,)) / '(1,)type'.\n",
      "  _np_quint8 = np.dtype([(\"quint8\", np.uint8, 1)])\n",
      "C:\\ProgramData\\Anaconda3\\lib\\site-packages\\tensorboard\\compat\\tensorflow_stub\\dtypes.py:543: FutureWarning: Passing (type, 1) or '1type' as a synonym of type is deprecated; in a future version of numpy, it will be understood as (type, (1,)) / '(1,)type'.\n",
      "  _np_qint16 = np.dtype([(\"qint16\", np.int16, 1)])\n",
      "C:\\ProgramData\\Anaconda3\\lib\\site-packages\\tensorboard\\compat\\tensorflow_stub\\dtypes.py:544: FutureWarning: Passing (type, 1) or '1type' as a synonym of type is deprecated; in a future version of numpy, it will be understood as (type, (1,)) / '(1,)type'.\n",
      "  _np_quint16 = np.dtype([(\"quint16\", np.uint16, 1)])\n",
      "C:\\ProgramData\\Anaconda3\\lib\\site-packages\\tensorboard\\compat\\tensorflow_stub\\dtypes.py:545: FutureWarning: Passing (type, 1) or '1type' as a synonym of type is deprecated; in a future version of numpy, it will be understood as (type, (1,)) / '(1,)type'.\n",
      "  _np_qint32 = np.dtype([(\"qint32\", np.int32, 1)])\n",
      "C:\\ProgramData\\Anaconda3\\lib\\site-packages\\tensorboard\\compat\\tensorflow_stub\\dtypes.py:550: FutureWarning: Passing (type, 1) or '1type' as a synonym of type is deprecated; in a future version of numpy, it will be understood as (type, (1,)) / '(1,)type'.\n",
      "  np_resource = np.dtype([(\"resource\", np.ubyte, 1)])\n"
     ]
    }
   ],
   "source": [
    "import numpy as np\n",
    "import matplotlib.pyplot as plt\n",
    "import keras\n",
    "from tensorflow.keras.layers import *\n",
    "from tensorflow.keras.models import * \n",
    "from tensorflow.keras.preprocessing import image"
   ]
  },
  {
   "cell_type": "markdown",
   "metadata": {},
   "source": [
    "#  Model deployment"
   ]
  },
  {
   "cell_type": "code",
   "execution_count": 2,
   "metadata": {},
   "outputs": [
    {
     "name": "stdout",
     "output_type": "stream",
     "text": [
      "WARNING:tensorflow:From C:\\ProgramData\\Anaconda3\\lib\\site-packages\\tensorflow\\python\\ops\\init_ops.py:1251: calling VarianceScaling.__init__ (from tensorflow.python.ops.init_ops) with dtype is deprecated and will be removed in a future version.\n",
      "Instructions for updating:\n",
      "Call initializer instance with the dtype argument instead of passing it to the constructor\n",
      "WARNING:tensorflow:From C:\\ProgramData\\Anaconda3\\lib\\site-packages\\tensorflow\\python\\ops\\nn_impl.py:180: add_dispatch_support.<locals>.wrapper (from tensorflow.python.ops.array_ops) is deprecated and will be removed in a future version.\n",
      "Instructions for updating:\n",
      "Use tf.where in 2.0, which has the same broadcast rule as np.where\n"
     ]
    }
   ],
   "source": [
    "#Training model\n",
    "model = Sequential()\n",
    "model.add(Conv2D(32,kernel_size=(3,3),activation='relu',input_shape=(224,224,3)))\n",
    "model.add(Conv2D(64,(3,3),activation='relu'))\n",
    "model.add(MaxPooling2D(pool_size=(2,2)))\n",
    "model.add(Dropout(0.25))\n",
    "\n",
    "model.add(Conv2D(64,(3,3),activation='relu'))\n",
    "model.add(MaxPooling2D(pool_size=(2,2)))\n",
    "model.add(Dropout(0.25))\n",
    "\n",
    "model.add(Conv2D(128,(3,3),activation='relu'))\n",
    "model.add(MaxPooling2D(pool_size=(2,2)))\n",
    "model.add(Dropout(0.25))\n",
    "\n",
    "model.add(Flatten())\n",
    "model.add(Dense(64,activation='relu'))\n",
    "model.add(Dropout(0.5))\n",
    "model.add(Dense(1,activation='sigmoid'))\n",
    "\n",
    "model.compile(loss=keras.losses.binary_crossentropy,optimizer='adam',metrics=['accuracy'])"
   ]
  },
  {
   "cell_type": "code",
   "execution_count": 3,
   "metadata": {},
   "outputs": [
    {
     "name": "stdout",
     "output_type": "stream",
     "text": [
      "Model: \"sequential\"\n",
      "_________________________________________________________________\n",
      "Layer (type)                 Output Shape              Param #   \n",
      "=================================================================\n",
      "conv2d (Conv2D)              (None, 222, 222, 32)      896       \n",
      "_________________________________________________________________\n",
      "conv2d_1 (Conv2D)            (None, 220, 220, 64)      18496     \n",
      "_________________________________________________________________\n",
      "max_pooling2d (MaxPooling2D) (None, 110, 110, 64)      0         \n",
      "_________________________________________________________________\n",
      "dropout (Dropout)            (None, 110, 110, 64)      0         \n",
      "_________________________________________________________________\n",
      "conv2d_2 (Conv2D)            (None, 108, 108, 64)      36928     \n",
      "_________________________________________________________________\n",
      "max_pooling2d_1 (MaxPooling2 (None, 54, 54, 64)        0         \n",
      "_________________________________________________________________\n",
      "dropout_1 (Dropout)          (None, 54, 54, 64)        0         \n",
      "_________________________________________________________________\n",
      "conv2d_3 (Conv2D)            (None, 52, 52, 128)       73856     \n",
      "_________________________________________________________________\n",
      "max_pooling2d_2 (MaxPooling2 (None, 26, 26, 128)       0         \n",
      "_________________________________________________________________\n",
      "dropout_2 (Dropout)          (None, 26, 26, 128)       0         \n",
      "_________________________________________________________________\n",
      "flatten (Flatten)            (None, 86528)             0         \n",
      "_________________________________________________________________\n",
      "dense (Dense)                (None, 64)                5537856   \n",
      "_________________________________________________________________\n",
      "dropout_3 (Dropout)          (None, 64)                0         \n",
      "_________________________________________________________________\n",
      "dense_1 (Dense)              (None, 1)                 65        \n",
      "=================================================================\n",
      "Total params: 5,668,097\n",
      "Trainable params: 5,668,097\n",
      "Non-trainable params: 0\n",
      "_________________________________________________________________\n"
     ]
    }
   ],
   "source": [
    "#Getting parameters\n",
    "model.summary()"
   ]
  },
  {
   "cell_type": "markdown",
   "metadata": {},
   "source": [
    "# Training data "
   ]
  },
  {
   "cell_type": "code",
   "execution_count": 4,
   "metadata": {},
   "outputs": [],
   "source": [
    "#Moulding train images\n",
    "train_datagen = image.ImageDataGenerator(rescale = 1./255, shear_range = 0.2,zoom_range = 0.2, horizontal_flip = True)\n",
    "\n",
    "test_dataset = image.ImageDataGenerator(rescale=1./255)"
   ]
  },
  {
   "cell_type": "code",
   "execution_count": 5,
   "metadata": {},
   "outputs": [
    {
     "name": "stdout",
     "output_type": "stream",
     "text": [
      "Found 200 images belonging to 2 classes.\n",
      "Found 53 images belonging to 2 classes.\n"
     ]
    }
   ],
   "source": [
    "#Reshaping test and validation images \n",
    "train_generator = train_datagen.flow_from_directory(\n",
    "    'Data Sets/brain_tumor_dataset/train',\n",
    "    target_size = (224,224),\n",
    "    batch_size = 10,\n",
    "    class_mode = 'binary')\n",
    "validation_generator = test_dataset.flow_from_directory(\n",
    "    'Data Sets/brain_tumor_dataset/test',\n",
    "    target_size = (224,224),\n",
    "    batch_size = 10,\n",
    "    class_mode = 'binary')"
   ]
  },
  {
   "cell_type": "code",
   "execution_count": 7,
   "metadata": {},
   "outputs": [
    {
     "name": "stdout",
     "output_type": "stream",
     "text": [
      "Epoch 1/50\n",
      "20/20 [==============================] - 13s 645ms/step - loss: 0.7769 - acc: 0.5400 - val_loss: 0.6802 - val_acc: 0.9400\n",
      "Epoch 2/50\n",
      "20/20 [==============================] - 7s 332ms/step - loss: 0.6211 - acc: 0.6550 - val_loss: 0.5965 - val_acc: 0.7600\n",
      "Epoch 3/50\n",
      "20/20 [==============================] - 7s 336ms/step - loss: 0.5878 - acc: 0.7000 - val_loss: 0.6137 - val_acc: 0.9000\n",
      "Epoch 4/50\n",
      "20/20 [==============================] - 7s 348ms/step - loss: 0.6373 - acc: 0.7050 - val_loss: 0.5642 - val_acc: 0.7600\n",
      "Epoch 5/50\n",
      "20/20 [==============================] - 7s 345ms/step - loss: 0.6078 - acc: 0.6900 - val_loss: 0.4419 - val_acc: 0.9400\n",
      "Epoch 6/50\n",
      "20/20 [==============================] - 7s 340ms/step - loss: 0.6146 - acc: 0.6900 - val_loss: 0.4099 - val_acc: 0.9000\n",
      "Epoch 7/50\n",
      "20/20 [==============================] - 7s 343ms/step - loss: 0.6646 - acc: 0.7000 - val_loss: 0.6008 - val_acc: 0.9400\n",
      "Epoch 8/50\n",
      "20/20 [==============================] - 7s 340ms/step - loss: 0.5565 - acc: 0.7300 - val_loss: 0.4526 - val_acc: 0.8400\n",
      "Epoch 9/50\n",
      "20/20 [==============================] - 7s 341ms/step - loss: 0.5160 - acc: 0.7450 - val_loss: 0.5152 - val_acc: 0.8000\n",
      "Epoch 10/50\n",
      "20/20 [==============================] - 7s 346ms/step - loss: 0.5450 - acc: 0.8050 - val_loss: 0.6181 - val_acc: 0.6400\n",
      "Epoch 11/50\n",
      "20/20 [==============================] - 7s 369ms/step - loss: 0.5309 - acc: 0.7900 - val_loss: 0.3681 - val_acc: 0.8800\n",
      "Epoch 12/50\n",
      "20/20 [==============================] - 7s 375ms/step - loss: 0.5445 - acc: 0.7850 - val_loss: 0.4744 - val_acc: 0.9200\n",
      "Epoch 13/50\n",
      "20/20 [==============================] - 8s 393ms/step - loss: 0.5239 - acc: 0.7500 - val_loss: 0.3991 - val_acc: 0.8600\n",
      "Epoch 14/50\n",
      "20/20 [==============================] - 8s 397ms/step - loss: 0.4570 - acc: 0.7800 - val_loss: 0.4281 - val_acc: 0.8200\n",
      "Epoch 15/50\n",
      "20/20 [==============================] - 8s 386ms/step - loss: 0.4811 - acc: 0.7700 - val_loss: 0.3762 - val_acc: 0.8600\n",
      "Epoch 16/50\n",
      "20/20 [==============================] - 8s 398ms/step - loss: 0.4771 - acc: 0.7900 - val_loss: 0.4255 - val_acc: 0.8000\n",
      "Epoch 17/50\n",
      "20/20 [==============================] - 7s 368ms/step - loss: 0.4691 - acc: 0.8100 - val_loss: 0.4457 - val_acc: 0.8000\n",
      "Epoch 18/50\n",
      "20/20 [==============================] - 7s 360ms/step - loss: 0.3876 - acc: 0.8250 - val_loss: 0.3871 - val_acc: 0.8400\n",
      "Epoch 19/50\n",
      "20/20 [==============================] - 7s 356ms/step - loss: 0.3998 - acc: 0.8200 - val_loss: 0.5996 - val_acc: 0.6800\n",
      "Epoch 20/50\n",
      "20/20 [==============================] - 7s 370ms/step - loss: 0.4256 - acc: 0.8100 - val_loss: 0.5937 - val_acc: 0.7400\n",
      "Epoch 21/50\n",
      "20/20 [==============================] - 7s 355ms/step - loss: 0.3973 - acc: 0.8250 - val_loss: 0.4183 - val_acc: 0.8600\n",
      "Epoch 22/50\n",
      "20/20 [==============================] - 7s 335ms/step - loss: 0.3838 - acc: 0.8350 - val_loss: 0.4232 - val_acc: 0.8000\n",
      "Epoch 23/50\n",
      "20/20 [==============================] - 7s 338ms/step - loss: 0.3957 - acc: 0.8300 - val_loss: 0.3704 - val_acc: 0.8200\n",
      "Epoch 24/50\n",
      "20/20 [==============================] - 7s 341ms/step - loss: 0.3658 - acc: 0.8500 - val_loss: 0.3269 - val_acc: 0.9000\n",
      "Epoch 25/50\n",
      "20/20 [==============================] - 8s 379ms/step - loss: 0.3476 - acc: 0.8700 - val_loss: 0.3211 - val_acc: 0.9000\n",
      "Epoch 26/50\n",
      "20/20 [==============================] - 7s 370ms/step - loss: 0.2848 - acc: 0.8900 - val_loss: 0.4270 - val_acc: 0.8400\n",
      "Epoch 27/50\n",
      "20/20 [==============================] - 7s 343ms/step - loss: 0.3442 - acc: 0.8200 - val_loss: 0.3463 - val_acc: 0.8400\n",
      "Epoch 28/50\n",
      "20/20 [==============================] - 7s 342ms/step - loss: 0.3449 - acc: 0.8500 - val_loss: 0.3700 - val_acc: 0.8600\n",
      "Epoch 29/50\n",
      "20/20 [==============================] - 7s 345ms/step - loss: 0.3280 - acc: 0.8700 - val_loss: 0.5479 - val_acc: 0.7800\n",
      "Epoch 30/50\n",
      "20/20 [==============================] - 7s 366ms/step - loss: 0.3636 - acc: 0.8400 - val_loss: 0.3197 - val_acc: 0.8600\n",
      "Epoch 31/50\n",
      "20/20 [==============================] - 7s 331ms/step - loss: 0.3062 - acc: 0.8450 - val_loss: 0.3811 - val_acc: 0.8000\n",
      "Epoch 32/50\n",
      "20/20 [==============================] - 7s 342ms/step - loss: 0.3494 - acc: 0.8500 - val_loss: 0.3366 - val_acc: 0.8400\n",
      "Epoch 33/50\n",
      "20/20 [==============================] - 7s 343ms/step - loss: 0.3505 - acc: 0.8750 - val_loss: 0.5600 - val_acc: 0.8000\n",
      "Epoch 34/50\n",
      "20/20 [==============================] - 7s 341ms/step - loss: 0.2695 - acc: 0.8900 - val_loss: 0.4653 - val_acc: 0.8000\n",
      "Epoch 35/50\n",
      "20/20 [==============================] - 7s 344ms/step - loss: 0.3034 - acc: 0.8750 - val_loss: 0.3482 - val_acc: 0.8200\n",
      "Epoch 36/50\n",
      "20/20 [==============================] - 7s 344ms/step - loss: 0.2889 - acc: 0.8850 - val_loss: 0.3795 - val_acc: 0.8400\n",
      "Epoch 37/50\n",
      "20/20 [==============================] - 7s 337ms/step - loss: 0.2638 - acc: 0.8850 - val_loss: 0.3819 - val_acc: 0.8600\n",
      "Epoch 38/50\n",
      "20/20 [==============================] - 7s 348ms/step - loss: 0.2938 - acc: 0.8550 - val_loss: 0.5536 - val_acc: 0.7600\n",
      "Epoch 39/50\n",
      "20/20 [==============================] - 7s 344ms/step - loss: 0.3022 - acc: 0.8800 - val_loss: 0.3304 - val_acc: 0.8400\n",
      "Epoch 40/50\n",
      "20/20 [==============================] - 7s 342ms/step - loss: 0.2908 - acc: 0.8950 - val_loss: 0.3116 - val_acc: 0.8600\n",
      "Epoch 41/50\n",
      "20/20 [==============================] - 7s 341ms/step - loss: 0.2926 - acc: 0.8950 - val_loss: 0.2744 - val_acc: 0.8600\n",
      "Epoch 42/50\n",
      "20/20 [==============================] - 7s 347ms/step - loss: 0.2372 - acc: 0.9200 - val_loss: 0.5088 - val_acc: 0.7800\n",
      "Epoch 43/50\n",
      "20/20 [==============================] - 7s 343ms/step - loss: 0.2810 - acc: 0.9300 - val_loss: 0.3656 - val_acc: 0.8600\n",
      "Epoch 44/50\n",
      "20/20 [==============================] - 7s 345ms/step - loss: 0.2436 - acc: 0.9150 - val_loss: 0.4077 - val_acc: 0.8400\n",
      "Epoch 45/50\n",
      "20/20 [==============================] - 7s 341ms/step - loss: 0.3122 - acc: 0.9050 - val_loss: 0.3206 - val_acc: 0.8200\n",
      "Epoch 46/50\n",
      "20/20 [==============================] - 7s 346ms/step - loss: 0.2470 - acc: 0.9200 - val_loss: 0.3020 - val_acc: 0.8200\n",
      "Epoch 47/50\n",
      "20/20 [==============================] - 7s 342ms/step - loss: 0.2097 - acc: 0.9400 - val_loss: 0.5431 - val_acc: 0.8000\n",
      "Epoch 48/50\n",
      "20/20 [==============================] - 7s 341ms/step - loss: 0.1986 - acc: 0.9300 - val_loss: 0.4835 - val_acc: 0.8200\n",
      "Epoch 49/50\n",
      "20/20 [==============================] - 7s 340ms/step - loss: 0.2265 - acc: 0.9200 - val_loss: 0.5619 - val_acc: 0.8000\n",
      "Epoch 50/50\n",
      "20/20 [==============================] - 7s 341ms/step - loss: 0.1700 - acc: 0.9350 - val_loss: 0.4389 - val_acc: 0.8000\n"
     ]
    }
   ],
   "source": [
    "#Training the model\n",
    "hist_new = model.fit_generator(\n",
    "    train_generator,\n",
    "    steps_per_epoch=20,\n",
    "    epochs = 50,\n",
    "    validation_data = validation_generator,\n",
    "    validation_steps=5\n",
    ")"
   ]
  },
  {
   "cell_type": "code",
   "execution_count": 8,
   "metadata": {},
   "outputs": [
    {
     "name": "stdout",
     "output_type": "stream",
     "text": [
      "{'loss': [0.7769158691167831, 0.6210637792944909, 0.5878067120909691, 0.6372602552175521, 0.6078306823968888, 0.6145773187279702, 0.6645714655518532, 0.5564745046198368, 0.5160209611058235, 0.5450122281908989, 0.5309114448726178, 0.5445162266492843, 0.5239444866776466, 0.4570372499525547, 0.48112134635448456, 0.47711013704538346, 0.46908277869224546, 0.3875730291008949, 0.3997978255152702, 0.4255998283624649, 0.39728895351290705, 0.38379448354244233, 0.3956535864621401, 0.3658193234354258, 0.3475970787927508, 0.2847542054951191, 0.3442289838567376, 0.34486781284213064, 0.32803119346499443, 0.36358825154602525, 0.3061677932739258, 0.34944905526936054, 0.3505136802792549, 0.26950111947953703, 0.3034362383186817, 0.28887814823538066, 0.2638344533741474, 0.29384498968720435, 0.30219002994708716, 0.29083747044205666, 0.2925821665674448, 0.23718911465257406, 0.28101892322301864, 0.24358768109232187, 0.3122235517948866, 0.24699559397995471, 0.20969428594689815, 0.1986135056242347, 0.22645351686514914, 0.16996358474716544], 'acc': [0.54, 0.655, 0.7, 0.705, 0.69, 0.69, 0.7, 0.73, 0.745, 0.805, 0.79, 0.785, 0.75, 0.78, 0.77, 0.79, 0.81, 0.825, 0.82, 0.81, 0.825, 0.835, 0.83, 0.85, 0.87, 0.89, 0.82, 0.85, 0.87, 0.84, 0.845, 0.85, 0.875, 0.89, 0.875, 0.885, 0.885, 0.855, 0.88, 0.895, 0.895, 0.92, 0.93, 0.915, 0.905, 0.92, 0.94, 0.93, 0.92, 0.935], 'val_loss': [0.6801563739776612, 0.5964816212654114, 0.6136935830116272, 0.5642271280288697, 0.44191941022872927, 0.4099390089511871, 0.6007807135581971, 0.4525908589363098, 0.5152153968811035, 0.6180684447288514, 0.36805303692817687, 0.474444979429245, 0.39906145334243776, 0.4280719459056854, 0.3761639058589935, 0.4255002081394196, 0.44568581879138947, 0.38713741302490234, 0.5995619058609009, 0.593688639998436, 0.418266099691391, 0.42320427745580674, 0.37037982046604156, 0.3269490122795105, 0.3211274236440659, 0.426998233795166, 0.34627746492624284, 0.3700046479701996, 0.5479134358465672, 0.31973392963409425, 0.3811229273676872, 0.33663901686668396, 0.5600115984678269, 0.465306268632412, 0.3481715708971024, 0.3794767752289772, 0.38190400004386904, 0.5535922959446907, 0.330380292236805, 0.3115811489522457, 0.27436991333961486, 0.5087707199156284, 0.3655964985489845, 0.4076581098139286, 0.320557227730751, 0.30197403877973555, 0.5430610477924347, 0.48347032368183135, 0.5618758335709572, 0.43891231417655946], 'val_acc': [0.94, 0.76, 0.9, 0.76, 0.94, 0.9, 0.94, 0.84, 0.8, 0.64, 0.88, 0.92, 0.86, 0.82, 0.86, 0.8, 0.8, 0.84, 0.68, 0.74, 0.86, 0.8, 0.82, 0.9, 0.9, 0.84, 0.84, 0.86, 0.78, 0.86, 0.8, 0.84, 0.8, 0.8, 0.82, 0.84, 0.86, 0.76, 0.84, 0.86, 0.86, 0.78, 0.86, 0.84, 0.82, 0.82, 0.8, 0.82, 0.8, 0.8]}\n"
     ]
    }
   ],
   "source": [
    "#Getting summary\n",
    "summary=hist_new.history\n",
    "print(summary)"
   ]
  },
  {
   "cell_type": "code",
   "execution_count": null,
   "metadata": {},
   "outputs": [],
   "source": [
    "model.save(\"model_covid.h5\")"
   ]
  },
  {
   "cell_type": "code",
   "execution_count": 9,
   "metadata": {},
   "outputs": [
    {
     "data": {
      "text/plain": [
       "[0.15605234699323772, 0.94]"
      ]
     },
     "execution_count": 9,
     "metadata": {},
     "output_type": "execute_result"
    }
   ],
   "source": [
    "model.evaluate_generator(train_generator)"
   ]
  },
  {
   "cell_type": "code",
   "execution_count": 10,
   "metadata": {},
   "outputs": [
    {
     "name": "stdout",
     "output_type": "stream",
     "text": [
      "[0.37172803717354935, 0.8113208]\n"
     ]
    }
   ],
   "source": [
    "print(model.evaluate_generator(validation_generator))"
   ]
  },
  {
   "cell_type": "markdown",
   "metadata": {},
   "source": [
    "## Confusion Matrix"
   ]
  },
  {
   "cell_type": "code",
   "execution_count": 12,
   "metadata": {},
   "outputs": [
    {
     "data": {
      "text/plain": [
       "{'no': 0, 'yes': 1}"
      ]
     },
     "execution_count": 12,
     "metadata": {},
     "output_type": "execute_result"
    }
   ],
   "source": [
    "import os\n",
    "train_generator.class_indices"
   ]
  },
  {
   "cell_type": "code",
   "execution_count": 13,
   "metadata": {},
   "outputs": [],
   "source": [
    "y_actual, y_test = [],[]"
   ]
  },
  {
   "cell_type": "code",
   "execution_count": 14,
   "metadata": {},
   "outputs": [],
   "source": [
    "for i in os.listdir(r\"Data Sets/brain_tumor_dataset/test\\no/\"):\n",
    "    img=image.load_img(r\"Data Sets/brain_tumor_dataset/test\\no/\"+i,target_size=(224,224))\n",
    "    img=image.img_to_array(img)\n",
    "    img=np.expand_dims(img,axis=0)\n",
    "    pred=model.predict_classes(img)\n",
    "    y_test.append(pred[0,0])\n",
    "    y_actual.append(1)\n",
    "    "
   ]
  },
  {
   "cell_type": "code",
   "execution_count": 15,
   "metadata": {},
   "outputs": [],
   "source": [
    "for i in os.listdir(\"Data Sets/brain_tumor_dataset/test\\yes/\"):\n",
    "    img=image.load_img(\"Data Sets/brain_tumor_dataset/test\\yes/\"+i,target_size=(224,224))\n",
    "    img=image.img_to_array(img)\n",
    "    img=np.expand_dims(img,axis=0)\n",
    "    pred=model.predict_classes(img)\n",
    "    y_test.append(pred[0,0])\n",
    "    y_actual.append(0)"
   ]
  },
  {
   "cell_type": "code",
   "execution_count": 16,
   "metadata": {},
   "outputs": [],
   "source": [
    "y_actual=np.array(y_actual)\n",
    "y_test=np.array(y_test)"
   ]
  },
  {
   "cell_type": "code",
   "execution_count": 17,
   "metadata": {},
   "outputs": [
    {
     "data": {
      "text/plain": [
       "array([1, 1, 1, 1, 1, 1, 1, 1, 1, 1, 1, 1, 1, 1, 1, 1, 1, 1, 0, 0, 0, 0,\n",
       "       0, 0, 0, 0, 0, 0, 0, 0, 0, 0, 0, 0, 0, 0, 0, 0, 0, 0, 0, 0, 0, 0,\n",
       "       0, 0, 0, 0, 0, 0, 0, 0, 0])"
      ]
     },
     "execution_count": 17,
     "metadata": {},
     "output_type": "execute_result"
    }
   ],
   "source": [
    "y_actual"
   ]
  },
  {
   "cell_type": "code",
   "execution_count": 18,
   "metadata": {},
   "outputs": [
    {
     "data": {
      "text/plain": [
       "array([0, 0, 0, 0, 0, 0, 0, 0, 0, 0, 0, 0, 0, 0, 0, 1, 0, 0, 1, 1, 1, 1,\n",
       "       1, 1, 1, 1, 1, 1, 1, 0, 1, 1, 1, 0, 1, 1, 1, 1, 0, 1, 0, 0, 1, 0,\n",
       "       1, 1, 1, 1, 1, 1, 1, 1, 1])"
      ]
     },
     "execution_count": 18,
     "metadata": {},
     "output_type": "execute_result"
    }
   ],
   "source": [
    "y_test"
   ]
  },
  {
   "cell_type": "code",
   "execution_count": 19,
   "metadata": {},
   "outputs": [],
   "source": [
    "from sklearn.metrics import confusion_matrix\n",
    "import seaborn as sns\n",
    "cn=confusion_matrix(y_actual,y_test)"
   ]
  },
  {
   "cell_type": "code",
   "execution_count": 20,
   "metadata": {},
   "outputs": [
    {
     "data": {
      "text/plain": [
       "<matplotlib.axes._subplots.AxesSubplot at 0x243a8ac3d88>"
      ]
     },
     "execution_count": 20,
     "metadata": {},
     "output_type": "execute_result"
    },
    {
     "data": {
      "image/png": "[encoded data removed]",
      "text/plain": [
       "<Figure size 432x288 with 2 Axes>"
      ]
     },
     "metadata": {
      "needs_background": "light"
     },
     "output_type": "display_data"
    }
   ],
   "source": [
    "sns.heatmap(cn,cmap=\"plasma\",annot=True) #0: Covid ; 1: Normal"
   ]
  },
  {
   "cell_type": "code",
   "execution_count": 21,
   "metadata": {},
   "outputs": [
    {
     "data": {
      "text/plain": [
       "0.1320754716981132"
      ]
     },
     "execution_count": 21,
     "metadata": {},
     "output_type": "execute_result"
    }
   ],
   "source": [
    "from sklearn.metrics import accuracy_score\n",
    "a=accuracy_score(y_actual,y_test)\n",
    "a"
   ]
  },
  {
   "cell_type": "code",
   "execution_count": null,
   "metadata": {},
   "outputs": [],
   "source": []
  }
 ],
 "metadata": {
  "kernelspec": {
   "display_name": "Python 3",
   "language": "python",
   "name": "python3"
  },
  "language_info": {
   "codemirror_mode": {
    "name": "ipython",
    "version": 3
   },
   "file_extension": ".py",
   "mimetype": "text/x-python",
   "name": "python",
   "nbconvert_exporter": "python",
   "pygments_lexer": "ipython3",
   "version": "3.7.7"
  }
 },
 "nbformat": 4,
 "nbformat_minor": 2
}
